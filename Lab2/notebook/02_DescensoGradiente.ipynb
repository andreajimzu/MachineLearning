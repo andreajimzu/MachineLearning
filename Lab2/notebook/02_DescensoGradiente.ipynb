{
 "cells": [
  {
   "cell_type": "markdown",
   "metadata": {},
   "source": [
    "# Descenso de Gradiente"
   ]
  },
  {
   "cell_type": "markdown",
   "metadata": {},
   "source": [
    "### Machine Learning\n",
    "\n",
    "\n",
    "#### Andrea Jiménez Zúñiga\n",
    "\n",
    "\n",
    "#### 13-10-2020"
   ]
  },
  {
   "cell_type": "markdown",
   "metadata": {},
   "source": [
    "## Introducción"
   ]
  },
  {
   "cell_type": "markdown",
   "metadata": {},
   "source": [
    "El objetivo de la práctica es crear funciones que me permitan calcular el descenso de gradiente, sin utilizar las librerías y funciones ya existentes. Para llevarlo a cabo, he creado un kernel desde la consola para poder programar el descenso del gradiente en Python en base al archivo de datos llamado 4_1_data. "
   ]
  },
  {
   "cell_type": "markdown",
   "metadata": {},
   "source": [
    "## Librerías"
   ]
  },
  {
   "cell_type": "code",
   "execution_count": 1,
   "metadata": {},
   "outputs": [],
   "source": [
    "import pandas as pd\n",
    "import numpy as np\n",
    "import matplotlib.pyplot as plt \n",
    "%matplotlib inline"
   ]
  },
  {
   "cell_type": "markdown",
   "metadata": {},
   "source": [
    "## Lectura de datos"
   ]
  },
  {
   "cell_type": "markdown",
   "metadata": {},
   "source": [
    "Los datos son obtenidos del archivo ./4_1_data.csv. Se trata de un DataFrame de 100 observaciones, procedentes de las notas que han sacado antiguos alumnos en dos examenes (score-1 y score-2) y si finalmente han sido admitidos o no (esto se recoge con la variable label, tomando el valor de 1 si han sido admitidos y 0 si no lo han sido).\n",
    "\n",
    "Para ello voy a importar los datos. Una vez importados le voy a dar los valores a X e y.\n",
    "X recoge los datos de las columnas score-1 y score-2, mientras que la y recoge los datos de la columna llamada label."
   ]
  },
  {
   "cell_type": "code",
   "execution_count": 2,
   "metadata": {},
   "outputs": [
    {
     "data": {
      "text/html": [
       "<div>\n",
       "<style scoped>\n",
       "    .dataframe tbody tr th:only-of-type {\n",
       "        vertical-align: middle;\n",
       "    }\n",
       "\n",
       "    .dataframe tbody tr th {\n",
       "        vertical-align: top;\n",
       "    }\n",
       "\n",
       "    .dataframe thead th {\n",
       "        text-align: right;\n",
       "    }\n",
       "</style>\n",
       "<table border=\"1\" class=\"dataframe\">\n",
       "  <thead>\n",
       "    <tr style=\"text-align: right;\">\n",
       "      <th></th>\n",
       "      <th>score-1</th>\n",
       "      <th>score-2</th>\n",
       "      <th>label</th>\n",
       "    </tr>\n",
       "  </thead>\n",
       "  <tbody>\n",
       "    <tr>\n",
       "      <th>0</th>\n",
       "      <td>34.623660</td>\n",
       "      <td>78.024693</td>\n",
       "      <td>0</td>\n",
       "    </tr>\n",
       "    <tr>\n",
       "      <th>1</th>\n",
       "      <td>30.286711</td>\n",
       "      <td>43.894998</td>\n",
       "      <td>0</td>\n",
       "    </tr>\n",
       "    <tr>\n",
       "      <th>2</th>\n",
       "      <td>35.847409</td>\n",
       "      <td>72.902198</td>\n",
       "      <td>0</td>\n",
       "    </tr>\n",
       "    <tr>\n",
       "      <th>3</th>\n",
       "      <td>60.182599</td>\n",
       "      <td>86.308552</td>\n",
       "      <td>1</td>\n",
       "    </tr>\n",
       "    <tr>\n",
       "      <th>4</th>\n",
       "      <td>79.032736</td>\n",
       "      <td>75.344376</td>\n",
       "      <td>1</td>\n",
       "    </tr>\n",
       "    <tr>\n",
       "      <th>...</th>\n",
       "      <td>...</td>\n",
       "      <td>...</td>\n",
       "      <td>...</td>\n",
       "    </tr>\n",
       "    <tr>\n",
       "      <th>95</th>\n",
       "      <td>83.489163</td>\n",
       "      <td>48.380286</td>\n",
       "      <td>1</td>\n",
       "    </tr>\n",
       "    <tr>\n",
       "      <th>96</th>\n",
       "      <td>42.261701</td>\n",
       "      <td>87.103851</td>\n",
       "      <td>1</td>\n",
       "    </tr>\n",
       "    <tr>\n",
       "      <th>97</th>\n",
       "      <td>99.315009</td>\n",
       "      <td>68.775409</td>\n",
       "      <td>1</td>\n",
       "    </tr>\n",
       "    <tr>\n",
       "      <th>98</th>\n",
       "      <td>55.340018</td>\n",
       "      <td>64.931938</td>\n",
       "      <td>1</td>\n",
       "    </tr>\n",
       "    <tr>\n",
       "      <th>99</th>\n",
       "      <td>74.775893</td>\n",
       "      <td>89.529813</td>\n",
       "      <td>1</td>\n",
       "    </tr>\n",
       "  </tbody>\n",
       "</table>\n",
       "<p>100 rows × 3 columns</p>\n",
       "</div>"
      ],
      "text/plain": [
       "      score-1    score-2  label\n",
       "0   34.623660  78.024693      0\n",
       "1   30.286711  43.894998      0\n",
       "2   35.847409  72.902198      0\n",
       "3   60.182599  86.308552      1\n",
       "4   79.032736  75.344376      1\n",
       "..        ...        ...    ...\n",
       "95  83.489163  48.380286      1\n",
       "96  42.261701  87.103851      1\n",
       "97  99.315009  68.775409      1\n",
       "98  55.340018  64.931938      1\n",
       "99  74.775893  89.529813      1\n",
       "\n",
       "[100 rows x 3 columns]"
      ]
     },
     "execution_count": 2,
     "metadata": {},
     "output_type": "execute_result"
    }
   ],
   "source": [
    "datos = pd.read_csv('/Users/Andy/Desktop/CUNEF/MACHINE LEARNIG /Lab2/Lab2/data/4_1_data.csv')\n",
    "datos"
   ]
  },
  {
   "cell_type": "markdown",
   "metadata": {},
   "source": [
    "Para poder seleccionar las filas y columnas que quiero para cada variable utilizo la función *iloc* de pandas. \n"
   ]
  },
  {
   "cell_type": "code",
   "execution_count": 15,
   "metadata": {},
   "outputs": [],
   "source": [
    "X = datos.iloc[:,:-1].values #Selecciono todas las filas y las dos primeras columnas \n",
    "y = datos.iloc[:,-1].values #selecciono todas las filas y la última columna."
   ]
  },
  {
   "cell_type": "markdown",
   "metadata": {},
   "source": [
    "## Representación de los datos"
   ]
  },
  {
   "cell_type": "markdown",
   "metadata": {},
   "source": [
    "Represento los datos para poder visualizarlos gráficamente. Se representan las variables independientes y se identifican las distintas clases para poder observar su relación. Para ello, es necesario diferenciar entre x1 y x2 que son las que representan los que han sido admitidos y los que no, por lo que se crean dos variables _pos_ y _neg_, representando _pos_ aquellos que han sido admitidos y _neg_ los que no. Se representan de distintos colores y forma, utilizando el rojo y + para los admitidos y el azul y o para los que no. "
   ]
  },
  {
   "cell_type": "code",
   "execution_count": 16,
   "metadata": {
    "scrolled": true
   },
   "outputs": [
    {
     "data": {
      "text/plain": [
       "<matplotlib.legend.Legend at 0x7ff0688249d0>"
      ]
     },
     "execution_count": 16,
     "metadata": {},
     "output_type": "execute_result"
    },
    {
     "data": {
      "image/png": "[encoded data removed]",
      "text/plain": [
       "<Figure size 432x288 with 1 Axes>"
      ]
     },
     "metadata": {
      "needs_background": "light"
     },
     "output_type": "display_data"
    }
   ],
   "source": [
    "pos , neg = (y==1).reshape(100,1) , (y==0).reshape(100,1) #Forma de array con 100 filas y en cada una con 1 dato.\n",
    "#Le doy el valor de pos (positivo) a todos aquellos cuya y sea igual a 1 y neg(negativos) a aquellos cuya y sea igual a 0.\n",
    "plt.scatter(X[pos[:,0],0],X[pos[:,0],1],c=\"r\",marker=\"+\") #Me da los valores de la columna 0 para todas las filas que representan positivos. \n",
    "plt.scatter(X[neg[:,0],0],X[neg[:,0],1],marker=\"o\",s=10) #Me da los valores de la columna 0 para todas las filas que representan negativos. \n",
    "\n",
    "#Le pongo el nombre a cada eje y a la leyenda: \n",
    "plt.xlabel(\"Nota examen 1\") \n",
    "plt.ylabel(\"Nota examen 2\")\n",
    "plt.legend([\"Admitido\",\"No admitido\"],loc=0)"
   ]
  },
  {
   "cell_type": "markdown",
   "metadata": {},
   "source": [
    "Se puede observar que los estudiantes con las mejores notas en ambos examenes fueron admitidos en la universidad."
   ]
  },
  {
   "cell_type": "markdown",
   "metadata": {},
   "source": [
    "## Función Sigmoide"
   ]
  },
  {
   "cell_type": "markdown",
   "metadata": {},
   "source": [
    "La función sigmoide es una regresión logística donde la variable dependiente es categórica. Una de las propiedades especiales que tiene esta función es que estira los valores centrales hacia el extremo para que se nos haga más fácil la predicción. \n",
    "\n",
    "La y va a estar siempre entre 0 y 1. \n",
    "\n",
    "La función sigmoide es la siguiente: \n"
   ]
  },
  {
   "attachments": {
    "Captura%20de%20pantalla%202020-11-12%20a%20las%205.59.09%20p.%C2%A0m..png": {
     "image/png": "[encoded data removed]"
    }
   },
   "cell_type": "markdown",
   "metadata": {},
   "source": [
    "![Captura%20de%20pantalla%202020-11-12%20a%20las%205.59.09%20p.%C2%A0m..png](attachment:Captura%20de%20pantalla%202020-11-12%20a%20las%205.59.09%20p.%C2%A0m..png)"
   ]
  },
  {
   "cell_type": "markdown",
   "metadata": {},
   "source": [
    "Para introducirlo en el código, primero voy a crear la función sigmoide de tal forma que me devuelva el sigmoide de z. \n"
   ]
  },
  {
   "cell_type": "code",
   "execution_count": 17,
   "metadata": {},
   "outputs": [],
   "source": [
    "def sigmoid(z) : \n",
    "    \n",
    "    return 1/(1+np.exp(-z)) # Me devuelve la funcion sigmoide"
   ]
  },
  {
   "cell_type": "markdown",
   "metadata": {},
   "source": [
    "Voy a probar que funciona la función sigmoide"
   ]
  },
  {
   "cell_type": "code",
   "execution_count": 18,
   "metadata": {},
   "outputs": [
    {
     "data": {
      "text/plain": [
       "0.5"
      ]
     },
     "execution_count": 18,
     "metadata": {},
     "output_type": "execute_result"
    }
   ],
   "source": [
    "sigmoid(0)"
   ]
  },
  {
   "cell_type": "markdown",
   "metadata": {},
   "source": [
    "## Cost Function y Gradiente"
   ]
  },
  {
   "cell_type": "markdown",
   "metadata": {},
   "source": [
    "Lo que se busca es que dado un x y una y encontrar una predicción de y (y hat) tal que esa predicción provenga de la prob de que y = 1 dado ese valor de x. \n",
    "\n",
    "Queremos que las predicciones se queden lo más cerca posible de los valores reales, por lo que quiero minimizar el error ( esto es igual a la diferencia entre el valor real y el error en valor absoluto). Para no tener que usar la función valor absoluto se utiliza la función cuadrática (elevándolo al cuadrado), otra forma es utilizando logaritmos. \n",
    "\n",
    "Todo logaritmo tiene una función de pérdida, porque así puedes meter tus propias funciones de coste. Las funciones de coste se pueden diseñar de muchas formas:\n",
    "\n",
    "Loss function es una función que nos da el coste asociado con el modelo y mide cómo de bien lo está haciendo nuestro modelo en el training data. \n",
    "\n",
    "                           Loss error function = ℓ(y,ŷ )=−(ylog(ŷ )+(1−y)log(1−ŷ)\n",
    "\n",
    "\n",
    "Por ejemplo: voy a suponer que mi valor real (y) es un 0 y que la predicción es 1, es decir que he acertado la predicción. Siempre que mi predicción sea 1 se me anula ylog(yhat), luego al hacer el log (1 -yhat) es el log(1-1) = log(0) y eso es igual a infinito, por lo que el coste se dispara. Luego el (1 – y) se queda en 0 por lo que me anula todo. Por lo que si yo acierto el error es 0."
   ]
  },
  {
   "cell_type": "markdown",
   "metadata": {},
   "source": [
    "Quiero minimizar mi coste, por lo que necesito saber cual es mi siguiente step o theta. Como quiero minimizar la función de coste, quiero que esté lo más cercano a 0 posible. Con la derivada parcial se puede encontrar el Theta para mi siguiente iteración. \n",
    "\n",
    "La función de coste es la siguiente:"
   ]
  },
  {
   "attachments": {
    "Captura%20de%20pantalla%202020-11-12%20a%20las%207.38.38%20p.%C2%A0m..png": {
     "image/png": "[encoded data removed]"
    }
   },
   "cell_type": "markdown",
   "metadata": {},
   "source": [
    "![Captura%20de%20pantalla%202020-11-12%20a%20las%207.38.38%20p.%C2%A0m..png](attachment:Captura%20de%20pantalla%202020-11-12%20a%20las%207.38.38%20p.%C2%A0m..png)"
   ]
  },
  {
   "cell_type": "markdown",
   "metadata": {},
   "source": [
    "El gradiente es una medida que mide cómo de pronunciada está la pendiente. Técnicamente cuando sumamos todas las primeras derivadas de todas las variables en una función, nos da el gradiente. \n",
    "\n",
    "La función es la siguiente:"
   ]
  },
  {
   "attachments": {
    "Captura%20de%20pantalla%202020-11-12%20a%20las%207.50.22%20p.%C2%A0m..png": {
     "image/png": "[encoded data removed]"
    }
   },
   "cell_type": "markdown",
   "metadata": {},
   "source": [
    "![Captura%20de%20pantalla%202020-11-12%20a%20las%207.50.22%20p.%C2%A0m..png](attachment:Captura%20de%20pantalla%202020-11-12%20a%20las%207.50.22%20p.%C2%A0m..png)"
   ]
  },
  {
   "cell_type": "code",
   "execution_count": 19,
   "metadata": {},
   "outputs": [],
   "source": [
    "def costFunction(theta, X, y): # Coge theta, X e y y me devuelve la regresion logistica de la funcion coste y el gradiente \n",
    "   \n",
    "    m=len(y)\n",
    "    \n",
    "    predictions = sigmoid(np.dot(X,theta)) # Pongo np.dot ya que X y theta son vectores.\n",
    "    # Predictions corresponde con ŷ de la fórmula Loss error function.\n",
    "    error = (-y * np.log(predictions)) - ((1-y)*np.log(1-predictions)) #Esta es la formula de Loss error function.\n",
    "\n",
    "    cost = 1/m * sum(error) # Esta es la funcion de coste \n",
    "    \n",
    "    grad = 1/m * np.dot(X.transpose(),(predictions - y)) # Esta es la funcion de gradiente \n",
    "    \n",
    "    return cost[0] , grad"
   ]
  },
  {
   "cell_type": "markdown",
   "metadata": {},
   "source": [
    "- theta es un vector de coeficientes.\n",
    "- X es el vector de fila.\n",
    "- Y es un vector.\n",
    "\n",
    "Se ha creado la función costFunction de tal forma que me calcule el coste para un determinado X e y. \n"
   ]
  },
  {
   "cell_type": "markdown",
   "metadata": {},
   "source": [
    "## Feature scaling\n"
   ]
  },
  {
   "cell_type": "markdown",
   "metadata": {},
   "source": [
    "La normalización consiste en transformar los datos de tal forma que todos los predictores estén aproximadamente en la misma escala. \n",
    "\n",
    "Si normalizamos la magnitud del gradiente en cada step o paso del descenso de gradiente, entonces la longitud de cada step es igual al valor de nuestra tasa de aprendizaje (α). Debido a esto, la tasa de aprendizaje se ajusta a sí misma en cada step basado en la magnitud del gradiente, para asegurar que la longitud de cada step es α. \n",
    "\n",
    "La función de normalización que se utiliza es la siguiente:"
   ]
  },
  {
   "attachments": {
    "Captura%20de%20pantalla%202020-11-12%20a%20las%208.11.18%20p.%C2%A0m..png": {
     "image/png": "[encoded data removed]"
    }
   },
   "cell_type": "markdown",
   "metadata": {},
   "source": [
    "![Captura%20de%20pantalla%202020-11-12%20a%20las%208.11.18%20p.%C2%A0m..png](attachment:Captura%20de%20pantalla%202020-11-12%20a%20las%208.11.18%20p.%C2%A0m..png)"
   ]
  },
  {
   "cell_type": "code",
   "execution_count": 20,
   "metadata": {},
   "outputs": [],
   "source": [
    "def featureNormalization(X): #Coge un array de X valores y me devuelve valores normalizados de X, \n",
    "    # la media y la desviacion estandar de cada uno. \n",
    "   \n",
    "    mean=np.mean(X,axis=0) #media de x \n",
    "    std=np.std(X,axis=0) #Desviacion estandar de x \n",
    "    \n",
    "    X_norm = (X - mean)/std #Funcion de la normalizacion\n",
    "    \n",
    "    return X_norm , mean , std"
   ]
  },
  {
   "cell_type": "code",
   "execution_count": 21,
   "metadata": {},
   "outputs": [
    {
     "name": "stdout",
     "output_type": "stream",
     "text": [
      "Cost of initial theta is 0.693147180559946\n",
      "Gradient at initial theta (zeros): [[-0.1       ]\n",
      " [-0.28122914]\n",
      " [-0.25098615]]\n"
     ]
    }
   ],
   "source": [
    "m , n = X.shape[0], X.shape[1] # m es la longitud de la primera columna y n es lo mismo pero de la segunda columna \n",
    "\n",
    "X, X_mean, X_std = featureNormalization(X) #Aplico la funcion que he creado anteriormente \n",
    "\n",
    "X= np.append(np.ones((m,1)),X,axis=1) # Añado unos en cada fila de la columna X\n",
    "y=y.reshape(m,1) #Forma de array con m filas y en cada una con 1 dato.\n",
    "\n",
    "initial_theta = np.zeros((n+1,1)) #Le doy el valor de 0 a mi theta inicial, para ello se usa la funcion np.zeros\n",
    "cost, grad= costFunction(initial_theta,X,y) #Me da el coste y gradiente a partir de la funcion de coste para ese theta inicial, X e y\n",
    "\n",
    "#Voy a hacer un print para que me de el coste del thete inical y otro print que me de el gradiente para mi theta inicial.\n",
    "print(\"Cost of initial theta is\",cost)\n",
    "print(\"Gradient at initial theta (zeros):\",grad)"
   ]
  },
  {
   "cell_type": "markdown",
   "metadata": {},
   "source": [
    "Se puede observar que el coste del theta inicial es de 0.69."
   ]
  },
  {
   "cell_type": "markdown",
   "metadata": {},
   "source": [
    "## Función de descenso de gradiente"
   ]
  },
  {
   "cell_type": "markdown",
   "metadata": {},
   "source": [
    "Para optimizar parámetros necesitamos disminuir los errores. El objetivo del descenso de gradiente es alcanzar cada mínimo local. Se consigue mediante un proceso iterativo calculando el tamaño del step para cada iteración. Este cálculo iterativo del tamaño del step para alcanzar el mínimo local es conocido como descenso. \n",
    "\n",
    "La fórmula de descenso de gradiente es la siguiente: \n"
   ]
  },
  {
   "attachments": {
    "Captura%20de%20pantalla%202020-11-12%20a%20las%208.24.49%20p.%C2%A0m..png": {
     "image/png": "[encoded data removed]"
    }
   },
   "cell_type": "markdown",
   "metadata": {},
   "source": [
    "![Captura%20de%20pantalla%202020-11-12%20a%20las%208.24.49%20p.%C2%A0m..png](attachment:Captura%20de%20pantalla%202020-11-12%20a%20las%208.24.49%20p.%C2%A0m..png)"
   ]
  },
  {
   "cell_type": "markdown",
   "metadata": {},
   "source": [
    "Donde α representa la tasa de aprendizaje. Se puede ver que α influye bastante en el tamaño del step ya que se multiplica el gradiente por el alpha para cada iteración.\n",
    "\n",
    "Lo que diferencia el descenso de gradiente de una regresión lineal es que en descenso de gradiente la hipótesis es ahora la función sigmoide."
   ]
  },
  {
   "cell_type": "code",
   "execution_count": 22,
   "metadata": {},
   "outputs": [],
   "source": [
    "def gradientDescent(X,y,theta,alpha,num_iters): #Coge un array de X, y, theta, alpha y num_iters, de tal forma\n",
    "    # que se actualice theta cogiendo num_iters con la tasa de aprendizaje de alpha. \n",
    "    # Me devuelve theta y la lista del coste de theta durante cada iteracion.\n",
    "   \n",
    "    \n",
    "    m=len(y) #m es la longitud de y\n",
    "    J_history =[] # para que este entre corchetes el resultado\n",
    "    \n",
    "    for i in range(num_iters): #Hago un for para el rango del numero de iteraciones de tal forma que\n",
    "        # el coste y el gradiente sea la funcion de coste de theta, X e y.\n",
    "        cost, grad = costFunction(theta,X,y)\n",
    "        theta = theta - (alpha * grad) #Formula para sacar el theta \n",
    "        J_history.append(cost) #hago un append para añadir en J_history los valores que salgan en cost \n",
    "    \n",
    "    return theta , J_history #Theta y lista del coste de theta durante cada iteracion.\n",
    "\n"
   ]
  },
  {
   "cell_type": "markdown",
   "metadata": {},
   "source": [
    "A continuación, voy a calcular el theta y la lista del coste de theta durante cada iteración. Para ello le doy valores a alpha y a las iteraciones siendo el más óptimo: \n",
    "\n",
    "- alpha = 1\n",
    "- num_iters = 400"
   ]
  },
  {
   "cell_type": "code",
   "execution_count": 26,
   "metadata": {},
   "outputs": [],
   "source": [
    "theta , J_history = gradientDescent(X,y,initial_theta,1,400)"
   ]
  },
  {
   "cell_type": "markdown",
   "metadata": {},
   "source": [
    "Hago un print para que me de el theta optimizado mediante descenso de gradiente y otro print que me de el coste de ese theta optimizado."
   ]
  },
  {
   "cell_type": "code",
   "execution_count": 27,
   "metadata": {},
   "outputs": [
    {
     "name": "stdout",
     "output_type": "stream",
     "text": [
      "Theta optimized by gradient descent: [[1.65947664]\n",
      " [3.8670477 ]\n",
      " [3.60347302]]\n",
      "The cost of the optimized theta: 0.2036004424915611\n"
     ]
    }
   ],
   "source": [
    "print(\"Theta optimized by gradient descent:\",theta)\n",
    "print(\"The cost of the optimized theta:\",J_history[-1]) #Pongo -1 para que me de el valor del último theta que se encuentra en J_history\n"
   ]
  },
  {
   "cell_type": "markdown",
   "metadata": {},
   "source": [
    "Usando este alpha y número de iteraciones, el theta optimizado es: [1.65947664], [3.8670477 ], [3.60347302] y el coste resultante es 0.20360.  "
   ]
  },
  {
   "cell_type": "markdown",
   "metadata": {},
   "source": [
    "## Gráfica de la Función de Coste"
   ]
  },
  {
   "cell_type": "markdown",
   "metadata": {},
   "source": [
    "A continuación, represento J_history (que me muestra los valores del coste de theta para cada iteración). \n",
    "\n",
    "Se puede observar que en este caso la caida es más pronunciada y la función de coste se aplana cerca de las 150 iteraciones. "
   ]
  },
  {
   "cell_type": "code",
   "execution_count": 30,
   "metadata": {},
   "outputs": [
    {
     "data": {
      "text/plain": [
       "Text(0.5, 1.0, 'Cost function using Gradient Descent')"
      ]
     },
     "execution_count": 30,
     "metadata": {},
     "output_type": "execute_result"
    },
    {
     "data": {
      "image/png": "[encoded data removed]",
      "text/plain": [
       "<Figure size 432x288 with 1 Axes>"
      ]
     },
     "metadata": {
      "needs_background": "light"
     },
     "output_type": "display_data"
    }
   ],
   "source": [
    "plt.plot(J_history) #Hago el plot de J_history\n",
    "plt.xlabel(\"Iteration\") #Nombre del eje de la x\n",
    "plt.ylabel(\"$J(\\Theta)$\") #Nombre del eje de la y \n",
    "plt.title(\"Cost function using Gradient Descent\") #Nombre de la gráfica"
   ]
  },
  {
   "cell_type": "markdown",
   "metadata": {},
   "source": [
    "En la gráfica se puede observar que inicialmente el error se reduce de forma significativa. Sin embargo, conforme van aumentando las iteraciones, no se observa que se reduzca mucho el error, es decir, estabiliza a partir de un cierto valor.\n",
    "\n",
    "Cuando empieza a alcanzar el mínimo local, empieza a tomar pasos muy pequeños hacia él de forma que no lo pase. Sin embargo, para reducir el tiempo de computación cuando está lejos, se tienen que tomar pasos más grandes para alcanzar el mínimo local más rápido. \n",
    "\n"
   ]
  },
  {
   "cell_type": "markdown",
   "metadata": {},
   "source": [
    "## Plotting the decision boundary"
   ]
  },
  {
   "cell_type": "markdown",
   "metadata": {},
   "source": [
    "Para poder graficarlo, se utiliza el theta optimizado. "
   ]
  },
  {
   "cell_type": "code",
   "execution_count": 519,
   "metadata": {},
   "outputs": [
    {
     "data": {
      "text/plain": [
       "<matplotlib.legend.Legend at 0x7fb5c753fa00>"
      ]
     },
     "execution_count": 519,
     "metadata": {},
     "output_type": "execute_result"
    },
    {
     "data": {
      "image/png": "[encoded data removed]",
      "text/plain": [
       "<Figure size 432x288 with 1 Axes>"
      ]
     },
     "metadata": {
      "needs_background": "light"
     },
     "output_type": "display_data"
    }
   ],
   "source": [
    "plt.scatter(X[pos[:,0],1],X[pos[:,0],2],c=\"r\",marker=\"+\",label=\"Admitted\") #Me da los valores de la columna 0 para todas \n",
    "# las filas que son positivos, tanto del score-1 como del score-2. Los voy a llamar \"Admitted\"\n",
    "\n",
    "plt.scatter(X[neg[:,0],1],X[neg[:,0],2],c=\"b\",marker=\"x\",label=\"Not admitted\")#Me da los valores de la columna 0 para todas \n",
    "# las filas que son negativos, tanto del score-1 como del score-2. Los voy a llamar \"not admitted\"\n",
    "\n",
    "x_value= np.array([np.min(X[:,1]),np.max(X[:,1])]) # el x-value representa un array con el valor mínimo y máximo de X del \n",
    "# score-1 y del score-2.\n",
    "y_value=-(theta[0] +theta[1]*x_value)/theta[2] # valor de la y_value\n",
    "\n",
    "plt.plot(x_value,y_value, \"g\") # La linea toma los valores de x_value e y_value y esta representada en verde.\n",
    "plt.xlabel(\"Exam 1 score\") #Nombre del eje de la x\n",
    "plt.ylabel(\"Exam 2 score\") #Nombre del eje de la y\n",
    "plt.legend(loc=0) #loc=0 es la posicion de la leyenda en el grafico"
   ]
  },
  {
   "cell_type": "markdown",
   "metadata": {},
   "source": [
    "## Predicción"
   ]
  },
  {
   "cell_type": "markdown",
   "metadata": {},
   "source": [
    "Una vez realizado el modelo, voy a hacer una predicción para el training del dataset para tener una idea de como de bien ha aprendido a dividir el espacio del training dataset y asignar labels. \n",
    "\n",
    "Va a generar una predicción para cada ejemplo que haga.\n",
    "\n",
    "Para ello, voy a crear una función llamada _classifierPredict_, la cual va a coger en un array de numpy theta y X y predice la clase. Me va a devolver aquellas predicciones que sean mayores que 0, por lo que va a ser de tipo boolean (True/False)."
   ]
  },
  {
   "cell_type": "code",
   "execution_count": 511,
   "metadata": {},
   "outputs": [],
   "source": [
    "def classifierPredict(theta,X):\n",
    "    \n",
    "    predictions = X.dot(theta) # Pongo np.dot ya que X y theta son vectores.\n",
    "   \n",
    "    return predictions>0 #Me devuelve aquellas predicciones que son mayores que 0.\n"
   ]
  },
  {
   "cell_type": "markdown",
   "metadata": {},
   "source": [
    "- Hago un ejemplo para saber la probabilidad que tiene un estudiante de ser aceptado si sus notas son 45 y 85."
   ]
  },
  {
   "cell_type": "code",
   "execution_count": 512,
   "metadata": {},
   "outputs": [
    {
     "name": "stdout",
     "output_type": "stream",
     "text": [
      "For a student with scores 45 and 85, we predict an admission probability of 0.7677628875748677\n"
     ]
    }
   ],
   "source": [
    "x_test = np.array([45,85]) # pongo en formato array los valores de la x\n",
    "x_test = (x_test - X_mean)/X_std # normalizo la x_test para esos valores. La X_mean y X_std ya las defini anteriormente \n",
    "x_test = np.append(np.ones(1),x_test) #Añado unos a la x_test\n",
    "\n",
    "prob = sigmoid(x_test.dot(theta)) #La probabilidad es la funcion sigmoide de x_test y theta \n",
    "\n",
    "print(\"For a student with scores 45 and 85, we predict an admission probability of\",prob[0])\n"
   ]
  },
  {
   "cell_type": "markdown",
   "metadata": {},
   "source": [
    "Haciendo dicha predicción, se obtiene que la probabilidad de admisión predecida es de 0.76776."
   ]
  },
  {
   "cell_type": "markdown",
   "metadata": {},
   "source": [
    "## Precisión en el training set"
   ]
  },
  {
   "cell_type": "markdown",
   "metadata": {},
   "source": [
    "Puedo evaluar mis predicciones utilizando una clasificación accuracy."
   ]
  },
  {
   "cell_type": "code",
   "execution_count": 508,
   "metadata": {},
   "outputs": [
    {
     "name": "stdout",
     "output_type": "stream",
     "text": [
      "Train Accuracy: 89 %\n"
     ]
    }
   ],
   "source": [
    "p=classifierPredict(theta,X)\n",
    "\n",
    "print(\"Train Accuracy:\", sum(p==y)[0],\"%\") #Me suma todos los valores \n",
    "# de p (la funcion classifierPredict que me da la prediccion) que coinciden con y\n",
    "# Los valores de p e y son true/false , por lo que me van a sumar todos aquellos que coincidan\n",
    "# y en total hay 89, por lo que el accuracy es de 89%.\n"
   ]
  },
  {
   "cell_type": "markdown",
   "metadata": {},
   "source": [
    "El print realizado muestra que el _\"Train Accuracy\"_ es de un 89%, indicando que el _classifier_ predice el 89% del training set de forma correcta."
   ]
  },
  {
   "cell_type": "markdown",
   "metadata": {},
   "source": [
    "## Bibliografía"
   ]
  },
  {
   "cell_type": "markdown",
   "metadata": {},
   "source": [
    "- Mainkar, S. (s. f.). Gradient Descent in Python - Towards Data Science. Medium. https://towardsdatascience.com/gradient-descent-in-python-a0d07285742f\n",
    "\n",
    "- Benlau93/Machine-Learning-by-Andrew-Ng-in-Python. (s. f.). GitHub. https://github.com/Benlau93/Machine-Learning-by-Andrew-Ng-in-Python/blob/master/LogisticRegression/ML_LogisticRegression.ipynb\n",
    "\n",
    "- McDonald, C. (2018, 5 noviembre). Machine learning fundamentals (I): Cost functions and gradient descent. Medium. https://towardsdatascience.com/machine-learning-fundamentals-via-linear-regression-41a5d11f5220\n",
    "\n"
   ]
  }
 ],
 "metadata": {
  "kernelspec": {
   "display_name": "descent_grad",
   "language": "python",
   "name": "descent_grad"
  },
  "language_info": {
   "codemirror_mode": {
    "name": "ipython",
    "version": 3
   },
   "file_extension": ".py",
   "mimetype": "text/x-python",
   "name": "python",
   "nbconvert_exporter": "python",
   "pygments_lexer": "ipython3",
   "version": "3.8.5"
  }
 },
 "nbformat": 4,
 "nbformat_minor": 4
}
